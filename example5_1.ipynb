{
 "cells": [
  {
   "cell_type": "markdown",
   "metadata": {},
   "source": [
    "# Infinite Blackjack\n",
    "\n",
    "This notebook covers Example 5.1 and 5.3 of http://people.inf.elte.hu/lorincz/Files/RL_2006/SuttonBook.pdf .\n",
    "\n",
    "We consider a variant of a Blackjack game where cards are dealt from an infinite deck. This makes the problem easier, because we do not need to keep track of cards already dealt."
   ]
  },
  {
   "cell_type": "code",
   "execution_count": 1,
   "metadata": {
    "collapsed": true
   },
   "outputs": [],
   "source": [
    "# imports\n",
    "import math\n",
    "import numpy as np\n",
    "import random\n",
    "from collections import defaultdict, namedtuple\n",
    "from enum import Enum\n",
    "import itertools\n",
    "import matplotlib.pyplot as plt\n",
    "%matplotlib inline  "
   ]
  },
  {
   "cell_type": "code",
   "execution_count": 2,
   "metadata": {
    "collapsed": true
   },
   "outputs": [],
   "source": [
    "random.seed(13531)"
   ]
  },
  {
   "cell_type": "code",
   "execution_count": 3,
   "metadata": {},
   "outputs": [],
   "source": [
    "BlackjackState = namedtuple('BlackjackState', ['player_sum', 'dealer_shown', 'has_usable_ace'])"
   ]
  },
  {
   "cell_type": "code",
   "execution_count": 4,
   "metadata": {
    "collapsed": true
   },
   "outputs": [],
   "source": [
    "class BlackjackAction(Enum):\n",
    "    HIT = 0\n",
    "    STICK = 1"
   ]
  },
  {
   "cell_type": "code",
   "execution_count": 5,
   "metadata": {
    "collapsed": true
   },
   "outputs": [],
   "source": [
    "def draw_card_value():\n",
    "    \"\"\"Draw a random card, and return its value.\n",
    "    \"\"\"\n",
    "    card_index = random.randint(1, 13)\n",
    "    return card_index if card_index <= 10 else 10"
   ]
  },
  {
   "cell_type": "code",
   "execution_count": 6,
   "metadata": {
    "collapsed": true
   },
   "outputs": [],
   "source": [
    "def play_episode(initial_state, policy, verbose=True, first_action=None):\n",
    "    \"\"\"Play a Blackjack episode following the given policy.\n",
    "    \n",
    "    Returns a triple: (return value, list of states, list of player actions)    \n",
    "    \"\"\"\n",
    "    def msg(text):\n",
    "        if verbose:\n",
    "            print(text)\n",
    "        else:\n",
    "            pass\n",
    "    \n",
    "    state_list = []\n",
    "    action_list = []\n",
    "        \n",
    "    # the player plays first\n",
    "    current_state = initial_state\n",
    "    is_first = True\n",
    "    while True:\n",
    "        msg(\"current state: {:}\".format(current_state))\n",
    "        state_list.append(current_state)\n",
    "        \n",
    "        if is_first and (first_action is not None):\n",
    "            now_action = first_action\n",
    "        else:\n",
    "            now_action = policy(current_state)\n",
    "        if is_first:\n",
    "            is_first = False            \n",
    "        if verbose:\n",
    "            msg(\"player's action: {:}\".format(now_action))        \n",
    "        action_list.append(now_action)\n",
    "        \n",
    "        if now_action == BlackjackAction.HIT:\n",
    "            new_card_value = draw_card_value()\n",
    "            if verbose:\n",
    "                msg(\"player's new card value: {:d}\".format(new_card_value))\n",
    "            new_player_sum = current_state.player_sum + new_card_value\n",
    "            if new_player_sum > 21:\n",
    "                if current_state.has_usable_ace:\n",
    "                    new_player_sum -= 10\n",
    "                    current_state = BlackjackState(player_sum=new_player_sum,\n",
    "                                                   dealer_shown=current_state.dealer_shown,\n",
    "                                                   has_usable_ace=False)\n",
    "                else:\n",
    "                    if verbose:\n",
    "                        msg(\"player busts!!!\")\n",
    "                    return -1, state_list, action_list\n",
    "            else:\n",
    "                current_state = BlackjackState(player_sum=new_player_sum,\n",
    "                                               dealer_shown=current_state.dealer_shown,\n",
    "                                               has_usable_ace=current_state.has_usable_ace)\n",
    "        else:\n",
    "            assert now_action == BlackjackAction.STICK\n",
    "            break\n",
    "    \n",
    "    # now the dealer plays\n",
    "    if initial_state.dealer_shown == 1:\n",
    "        dealer_sum = 11\n",
    "        dealer_has_usable_ace = True\n",
    "    else:\n",
    "        dealer_sum = initial_state.dealer_shown\n",
    "        dealer_has_usable_ace = False\n",
    "    \n",
    "    # dealer's strategy is fixed\n",
    "    while dealer_sum < 17:\n",
    "        new_card_value = draw_card_value()\n",
    "        msg(\"dealer's new card: {}, dealer has ace: {}\".format(new_card_value, dealer_has_usable_ace))\n",
    "        dealer_sum += new_card_value\n",
    "        if dealer_sum > 21 and dealer_has_usable_ace:\n",
    "            dealer_sum -= 10\n",
    "            dealer_has_usable_ace = False\n",
    "    \n",
    "    msg(\"dealer's final sum: {}\".format(dealer_sum))\n",
    "    if dealer_sum > 21:\n",
    "        return_value = 1\n",
    "    else:\n",
    "        dealer_gap = abs(dealer_sum - 21)\n",
    "        player_gap = abs(current_state.player_sum - 21)\n",
    "        if player_gap < dealer_gap:\n",
    "            return_value = 1\n",
    "        elif player_gap > dealer_gap:\n",
    "            return_value = -1\n",
    "        else: # player_gap == dealer_gap           \n",
    "            return_value = 0\n",
    "            \n",
    "    return return_value, state_list, action_list"
   ]
  },
  {
   "cell_type": "code",
   "execution_count": 7,
   "metadata": {
    "collapsed": true
   },
   "outputs": [],
   "source": [
    "def sample_state():\n",
    "    return BlackjackState(player_sum=random.randint(11, 21), dealer_shown=random.randint(1, 10),\n",
    "                          has_usable_ace=random.random() < 0.5)"
   ]
  },
  {
   "cell_type": "markdown",
   "metadata": {},
   "source": [
    "## Example 5.1. Monte carlo evaluation of naive policy\n",
    "\n",
    "Let us evaluate the efficacy of naive policy, which sticks only if the current sum is greater than 20."
   ]
  },
  {
   "cell_type": "code",
   "execution_count": 8,
   "metadata": {
    "collapsed": true
   },
   "outputs": [],
   "source": [
    "def naive_policy(state):\n",
    "    if state.player_sum >= 20:\n",
    "        return BlackjackAction.STICK\n",
    "    else:\n",
    "        return BlackjackAction.HIT"
   ]
  },
  {
   "cell_type": "code",
   "execution_count": 9,
   "metadata": {},
   "outputs": [],
   "source": [
    "def monte_carlo_policy_evaluation(iter_num=1000, policy=naive_policy):\n",
    "    state_to_value_samples = defaultdict(list)\n",
    "    for iter_index in range(iter_num):\n",
    "        return_value, states, actions = play_episode(sample_state(), policy, verbose=False)\n",
    "        for state in states:\n",
    "            state_to_value_samples[state].append(return_value)\n",
    "    return state_to_value_samples"
   ]
  },
  {
   "cell_type": "code",
   "execution_count": 10,
   "metadata": {},
   "outputs": [],
   "source": [
    "def monte_carlo_draw_contour(has_usable_ace, iter_num=10000, policy=naive_policy):\n",
    "    state_to_value_samples = monte_carlo_policy_evaluation(iter_num=iter_num)\n",
    "    has_usable_ace = False\n",
    "    xs, ys = np.meshgrid(range(12, 22), range(1,11))\n",
    "    zs = np.zeros(xs.shape)\n",
    "    for i in range(xs.shape[0]):\n",
    "        for j in range(xs.shape[1]):\n",
    "            player_sum = xs[i, j]\n",
    "            dealer_shown = ys[i, j]\n",
    "            zs[i,j] = np.mean(state_to_value_samples[BlackjackState(player_sum, dealer_shown, has_usable_ace)])\n",
    "\n",
    "    plt.contourf(xs, ys, zs)\n",
    "    plt.xlabel('player sum')\n",
    "    plt.ylabel('dealer shown (1: ace)')\n",
    "    plt.colorbar()\n",
    "    plt.show()"
   ]
  },
  {
   "cell_type": "markdown",
   "metadata": {},
   "source": [
    "### Figure 5.2. When the player has a usable ace"
   ]
  },
  {
   "cell_type": "code",
   "execution_count": 11,
   "metadata": {},
   "outputs": [
    {
     "data": {
      "image/png": "[encoded data removed]",
      "text/plain": [
       "<matplotlib.figure.Figure at 0x10e94de80>"
      ]
     },
     "metadata": {},
     "output_type": "display_data"
    }
   ],
   "source": [
    "monte_carlo_draw_contour(has_usable_ace=True, iter_num=1000)"
   ]
  },
  {
   "cell_type": "code",
   "execution_count": 12,
   "metadata": {},
   "outputs": [
    {
     "data": {
      "image/png": "[encoded data removed]",
      "text/plain": [
       "<matplotlib.figure.Figure at 0x10ea48320>"
      ]
     },
     "metadata": {},
     "output_type": "display_data"
    }
   ],
   "source": [
    "monte_carlo_draw_contour(has_usable_ace=True, iter_num=10000)"
   ]
  },
  {
   "cell_type": "code",
   "execution_count": 13,
   "metadata": {},
   "outputs": [
    {
     "data": {
      "image/png": "[encoded data removed]",
      "text/plain": [
       "<matplotlib.figure.Figure at 0x10e9677b8>"
      ]
     },
     "metadata": {},
     "output_type": "display_data"
    }
   ],
   "source": [
    "monte_carlo_draw_contour(has_usable_ace=True, iter_num=500000)"
   ]
  },
  {
   "cell_type": "markdown",
   "metadata": {},
   "source": [
    "### Figure 5.2. When the player does not have a usable ace"
   ]
  },
  {
   "cell_type": "code",
   "execution_count": 14,
   "metadata": {},
   "outputs": [
    {
     "data": {
      "image/png": "[encoded data removed]",
      "text/plain": [
       "<matplotlib.figure.Figure at 0x10ea670f0>"
      ]
     },
     "metadata": {},
     "output_type": "display_data"
    }
   ],
   "source": [
    "monte_carlo_draw_contour(has_usable_ace=False, iter_num=1000)"
   ]
  },
  {
   "cell_type": "code",
   "execution_count": 15,
   "metadata": {},
   "outputs": [
    {
     "data": {
      "image/png": "[encoded data removed]",
      "text/plain": [
       "<matplotlib.figure.Figure at 0x10d5d8240>"
      ]
     },
     "metadata": {},
     "output_type": "display_data"
    }
   ],
   "source": [
    "monte_carlo_draw_contour(has_usable_ace=False, iter_num=10000)"
   ]
  },
  {
   "cell_type": "code",
   "execution_count": 16,
   "metadata": {},
   "outputs": [
    {
     "data": {
      "image/png": "[encoded data removed]",
      "text/plain": [
       "<matplotlib.figure.Figure at 0x10ed0c3c8>"
      ]
     },
     "metadata": {},
     "output_type": "display_data"
    }
   ],
   "source": [
    "monte_carlo_draw_contour(has_usable_ace=False, iter_num=500000)"
   ]
  },
  {
   "cell_type": "markdown",
   "metadata": {},
   "source": [
    "## Example 5.3. Monte Carlo Control with Exploring Starts\n",
    "\n",
    "Now, let us find the optimal policy using Monte Carlo Control with Exploring Starts."
   ]
  },
  {
   "cell_type": "code",
   "execution_count": 17,
   "metadata": {
    "collapsed": true
   },
   "outputs": [],
   "source": [
    "def monte_carlo_control(iter_num=1000):\n",
    "    state_action_to_value_means = defaultdict(float)\n",
    "    state_action_to_counts = defaultdict(int)\n",
    "    \n",
    "    def monte_carlo_policy(state):\n",
    "        hit_value = state_action_to_value_means[(state, BlackjackAction.HIT)]\n",
    "        stick_value = state_action_to_value_means[(state, BlackjackAction.STICK)]\n",
    "        \n",
    "        if hit_value > stick_value:\n",
    "            return BlackjackAction.HIT\n",
    "        else:\n",
    "            return BlackjackAction.STICK\n",
    "    \n",
    "    for iter_index in range(iter_num):\n",
    "        if iter_index > 0 and iter_index % 10000 == 0:\n",
    "            print(\"currently at: {:d}/{:d}\".format(iter_index, iter_num))\n",
    "        start_state = sample_state()\n",
    "        start_action = BlackjackAction.HIT if random.random() < 0.5 else BlackjackAction.STICK\n",
    "        \n",
    "        return_value, states, actions = play_episode(start_state, monte_carlo_policy, \n",
    "                                                     verbose=False, first_action=start_action)\n",
    "        for state, action in zip(states, actions):\n",
    "            state_action_to_counts[(state, action)] += 1\n",
    "            state_action_to_value_means[(state, action)] += ((return_value - \n",
    "                                                              state_action_to_value_means[(state, action)])/\n",
    "                                                             state_action_to_counts[(state, action)])\n",
    "                \n",
    "            \n",
    "    return state_action_to_value_means, state_action_to_counts, monte_carlo_policy"
   ]
  },
  {
   "cell_type": "code",
   "execution_count": 18,
   "metadata": {},
   "outputs": [
    {
     "name": "stdout",
     "output_type": "stream",
     "text": [
      "currently at: 10000/1000000\n",
      "currently at: 20000/1000000\n",
      "currently at: 30000/1000000\n",
      "currently at: 40000/1000000\n",
      "currently at: 50000/1000000\n",
      "currently at: 60000/1000000\n",
      "currently at: 70000/1000000\n",
      "currently at: 80000/1000000\n",
      "currently at: 90000/1000000\n",
      "currently at: 100000/1000000\n",
      "currently at: 110000/1000000\n",
      "currently at: 120000/1000000\n",
      "currently at: 130000/1000000\n",
      "currently at: 140000/1000000\n",
      "currently at: 150000/1000000\n",
      "currently at: 160000/1000000\n",
      "currently at: 170000/1000000\n",
      "currently at: 180000/1000000\n",
      "currently at: 190000/1000000\n",
      "currently at: 200000/1000000\n",
      "currently at: 210000/1000000\n",
      "currently at: 220000/1000000\n",
      "currently at: 230000/1000000\n",
      "currently at: 240000/1000000\n",
      "currently at: 250000/1000000\n",
      "currently at: 260000/1000000\n",
      "currently at: 270000/1000000\n",
      "currently at: 280000/1000000\n",
      "currently at: 290000/1000000\n",
      "currently at: 300000/1000000\n",
      "currently at: 310000/1000000\n",
      "currently at: 320000/1000000\n",
      "currently at: 330000/1000000\n",
      "currently at: 340000/1000000\n",
      "currently at: 350000/1000000\n",
      "currently at: 360000/1000000\n",
      "currently at: 370000/1000000\n",
      "currently at: 380000/1000000\n",
      "currently at: 390000/1000000\n",
      "currently at: 400000/1000000\n",
      "currently at: 410000/1000000\n",
      "currently at: 420000/1000000\n",
      "currently at: 430000/1000000\n",
      "currently at: 440000/1000000\n",
      "currently at: 450000/1000000\n",
      "currently at: 460000/1000000\n",
      "currently at: 470000/1000000\n",
      "currently at: 480000/1000000\n",
      "currently at: 490000/1000000\n",
      "currently at: 500000/1000000\n",
      "currently at: 510000/1000000\n",
      "currently at: 520000/1000000\n",
      "currently at: 530000/1000000\n",
      "currently at: 540000/1000000\n",
      "currently at: 550000/1000000\n",
      "currently at: 560000/1000000\n",
      "currently at: 570000/1000000\n",
      "currently at: 580000/1000000\n",
      "currently at: 590000/1000000\n",
      "currently at: 600000/1000000\n",
      "currently at: 610000/1000000\n",
      "currently at: 620000/1000000\n",
      "currently at: 630000/1000000\n",
      "currently at: 640000/1000000\n",
      "currently at: 650000/1000000\n",
      "currently at: 660000/1000000\n",
      "currently at: 670000/1000000\n",
      "currently at: 680000/1000000\n",
      "currently at: 690000/1000000\n",
      "currently at: 700000/1000000\n",
      "currently at: 710000/1000000\n",
      "currently at: 720000/1000000\n",
      "currently at: 730000/1000000\n",
      "currently at: 740000/1000000\n",
      "currently at: 750000/1000000\n",
      "currently at: 760000/1000000\n",
      "currently at: 770000/1000000\n",
      "currently at: 780000/1000000\n",
      "currently at: 790000/1000000\n",
      "currently at: 800000/1000000\n",
      "currently at: 810000/1000000\n",
      "currently at: 820000/1000000\n",
      "currently at: 830000/1000000\n",
      "currently at: 840000/1000000\n",
      "currently at: 850000/1000000\n",
      "currently at: 860000/1000000\n",
      "currently at: 870000/1000000\n",
      "currently at: 880000/1000000\n",
      "currently at: 890000/1000000\n",
      "currently at: 900000/1000000\n",
      "currently at: 910000/1000000\n",
      "currently at: 920000/1000000\n",
      "currently at: 930000/1000000\n",
      "currently at: 940000/1000000\n",
      "currently at: 950000/1000000\n",
      "currently at: 960000/1000000\n",
      "currently at: 970000/1000000\n",
      "currently at: 980000/1000000\n",
      "currently at: 990000/1000000\n"
     ]
    }
   ],
   "source": [
    "# this takes quite a bit of time...\n",
    "state_action_to_value_means, state_action_to_counts, monte_carlo_policy = monte_carlo_control(1000000)"
   ]
  },
  {
   "cell_type": "markdown",
   "metadata": {},
   "source": [
    "### Figure 5.5. The opimal policy when the player has a usable ace"
   ]
  },
  {
   "cell_type": "code",
   "execution_count": 19,
   "metadata": {},
   "outputs": [
    {
     "data": {
      "image/png": "[encoded data removed]",
      "text/plain": [
       "<matplotlib.figure.Figure at 0x10ef3ef60>"
      ]
     },
     "metadata": {},
     "output_type": "display_data"
    }
   ],
   "source": [
    "has_usable_ace = True\n",
    "xs = []\n",
    "ys = []\n",
    "for dealer_shown in range(1,11):\n",
    "    stick_threshold = 0\n",
    "    for player_sum in range(11, 22):\n",
    "        if monte_carlo_policy(BlackjackState(player_sum, dealer_shown, has_usable_ace)) == BlackjackAction.STICK:\n",
    "            stick_threshold = player_sum\n",
    "            break\n",
    "    xs.append(dealer_shown)\n",
    "    ys.append(stick_threshold)\n",
    "plt.plot(xs, ys)\n",
    "plt.ylim(11, 22)\n",
    "plt.xlabel('dealer showing (1=ace)')\n",
    "plt.ylabel('player sum to start stick')\n",
    "plt.show()"
   ]
  },
  {
   "cell_type": "markdown",
   "metadata": {},
   "source": [
    "### Figure 5.5. The opimal policy when the player does not have a usable ace"
   ]
  },
  {
   "cell_type": "code",
   "execution_count": 20,
   "metadata": {},
   "outputs": [
    {
     "data": {
      "image/png": "[encoded data removed]",
      "text/plain": [
       "<matplotlib.figure.Figure at 0x10edf25c0>"
      ]
     },
     "metadata": {},
     "output_type": "display_data"
    }
   ],
   "source": [
    "has_usable_ace = False\n",
    "xs = []\n",
    "ys = []\n",
    "for dealer_shown in range(1,11):\n",
    "    stick_threshold = 0\n",
    "    for player_sum in range(11, 22):\n",
    "        if monte_carlo_policy(BlackjackState(player_sum, dealer_shown, has_usable_ace)) == BlackjackAction.STICK:\n",
    "            stick_threshold = player_sum\n",
    "            break\n",
    "    xs.append(dealer_shown)\n",
    "    ys.append(stick_threshold)\n",
    "plt.plot(xs, ys)\n",
    "plt.ylim(11, 22)\n",
    "plt.xlabel('dealer showing (1=ace)')\n",
    "plt.ylabel('player sum to start stick')\n",
    "plt.show()"
   ]
  }
 ],
 "metadata": {
  "kernelspec": {
   "display_name": "Python 3",
   "language": "python",
   "name": "python3"
  },
  "language_info": {
   "codemirror_mode": {
    "name": "ipython",
    "version": 3
   },
   "file_extension": ".py",
   "mimetype": "text/x-python",
   "name": "python",
   "nbconvert_exporter": "python",
   "pygments_lexer": "ipython3",
   "version": "3.4.6"
  }
 },
 "nbformat": 4,
 "nbformat_minor": 2
}
